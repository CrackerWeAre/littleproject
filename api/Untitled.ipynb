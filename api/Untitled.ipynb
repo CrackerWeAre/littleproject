{
 "cells": [
  {
   "cell_type": "code",
   "execution_count": 7,
   "metadata": {},
   "outputs": [],
   "source": [
    "from bs4 import BeautifulSoup\n",
    "import requests\n",
    "import json\n",
    "import time"
   ]
  },
  {
   "cell_type": "code",
   "execution_count": 49,
   "metadata": {},
   "outputs": [
    {
     "ename": "NameError",
     "evalue": "name 'reload' is not defined",
     "output_type": "error",
     "traceback": [
      "\u001b[0;31m---------------------------------------------------------------------------\u001b[0m",
      "\u001b[0;31mNameError\u001b[0m                                 Traceback (most recent call last)",
      "\u001b[0;32m<ipython-input-49-452f19b42b30>\u001b[0m in \u001b[0;36m<module>\u001b[0;34m\u001b[0m\n\u001b[1;32m      1\u001b[0m \u001b[0;32mimport\u001b[0m \u001b[0msys\u001b[0m\u001b[0;34m\u001b[0m\u001b[0;34m\u001b[0m\u001b[0m\n\u001b[1;32m      2\u001b[0m \u001b[0;34m\u001b[0m\u001b[0m\n\u001b[0;32m----> 3\u001b[0;31m \u001b[0mreload\u001b[0m\u001b[0;34m(\u001b[0m\u001b[0msys\u001b[0m\u001b[0;34m)\u001b[0m\u001b[0;34m\u001b[0m\u001b[0;34m\u001b[0m\u001b[0m\n\u001b[0m\u001b[1;32m      4\u001b[0m \u001b[0;34m\u001b[0m\u001b[0m\n\u001b[1;32m      5\u001b[0m \u001b[0msys\u001b[0m\u001b[0;34m.\u001b[0m\u001b[0msetdefaultencoding\u001b[0m\u001b[0;34m(\u001b[0m\u001b[0;34m'utf-8'\u001b[0m\u001b[0;34m)\u001b[0m\u001b[0;34m\u001b[0m\u001b[0;34m\u001b[0m\u001b[0m\n",
      "\u001b[0;31mNameError\u001b[0m: name 'reload' is not defined"
     ]
    }
   ],
   "source": [
    "import sys\n",
    "\n",
    "reload(sys)\n",
    "\n",
    "sys.setdefaultencoding('utf-8')\n",
    "\n"
   ]
  },
  {
   "cell_type": "code",
   "execution_count": 121,
   "metadata": {},
   "outputs": [],
   "source": [
    "def youtubeCrawlLiveData(channelId):\n",
    "    dataSet = {}\n",
    "    url = \"https://www.youtube.com\"\n",
    "    \n",
    "    urldata = requests.get(url+'/channel/'+channelId)\n",
    "    \n",
    "    htmldata = BeautifulSoup(urldata.text, 'html.parser')\n",
    "    link = htmldata.select('div.yt-lockup-dismissable')\n",
    "    linkData=link[0].select('div.yt-lockup-content')\n",
    "    dataLiveConfirm=linkData[0].select_one('a')['data-sessionlink']\n",
    "    \n",
    "    if dataLiveConfirm.find('live') > 0 :\n",
    "        dataSet['_id'] = channelId\n",
    "        dataSet['channelId'] = channelId\n",
    "        imgData=link[0].select_one('div.yt-lockup-thumbnail > span > a > span > span > span > img')\n",
    "        dataSet['imgDataSrc'] = imgData.attrs['data-thumb']\n",
    "        liveData = link[0].select_one('div.yt-lockup-content > h3 > a')\n",
    "        dataSet['liveDataHref'] = url+liveData.attrs['href']\n",
    "        dataSet['liveDataTitle'] = liveData.attrs['title']\n",
    "        creatorData = link[0].select_one('div.yt-lockup-content > div.yt-lockup-byline > a')\n",
    "        dataSet['creatorDataHref'] = url+creatorData.attrs['href']\n",
    "        dataSet['creatorDataName'] = creatorData.text\n",
    "        AttdData = link[0].select_one('div.yt-lockup-content > div.yt-lockup-meta > ul > li ')\n",
    "        dataSet['liveAttdc'] = AttdData.text.partition('명')[0]\n",
    "        dataSet['platform'] = \"Youtube\"\n",
    "        dataSet['onLive'] = True\n",
    "    else :\n",
    "        dataSet= {\n",
    "            \"_id\" : channelId,\n",
    "            \"onLive\" : False\n",
    "        }\n",
    "    return json.dumps(dataSet, ensure_ascii=False)\n",
    "\n"
   ]
  },
  {
   "cell_type": "code",
   "execution_count": 263,
   "metadata": {},
   "outputs": [],
   "source": [
    "def twitchCrawlLiveData(channelId):\n",
    "    dataSet = {}\n",
    "    url = \"http://api.twitch.tv/helix/streams?user_login=\"\n",
    "    headers = {\"Client-ID\":\"x61q9wk8c5hw5q00x49jzbesmmodn1\"}\n",
    "    urldata = requests.get(url+channelId, headers=headers)\n",
    "    urlJsonData = json.loads(urldata.text)\n",
    "    print(urlJsonData)\n",
    "    if urlJsonData != {'data': [], 'pagination': {}} :\n",
    "        dataSet['_id'] = channelId\n",
    "        dataSet['channelId'] = urlJsonData['data'][0]['user_id']\n",
    "        dataSet['imgDataSrc'] = urlJsonData['data'][0]['thumbnail_url'].replace('{width}', '1600').replace('{height}', '900')\n",
    "        dataSet['liveDataHref'] = \"http://twitch.tv/\"+channelId\n",
    "        dataSet['liveDataTitle'] = urlJsonData['data'][0]['title']\n",
    "        dataSet['creatorDataHref'] = \"http://twitch.tv/\"+channelId\n",
    "        dataSet['creatorDataName'] = urlJsonData['data'][0]['user_name']\n",
    "        dataSet['liveAttdc'] = urlJsonData['data'][0]['viewer_count']\n",
    "        dataSet['platform'] = \"Twithch\"\n",
    "        dataSet['onLive'] = True\n",
    "    else :\n",
    "        dataSet= {\n",
    "            \"_id\" : channelId,\n",
    "            \"onLive\" : False\n",
    "        }\n",
    "    return json.dumps(dataSet, ensure_ascii=False)\n",
    "\n"
   ]
  },
  {
   "cell_type": "code",
   "execution_count": 264,
   "metadata": {},
   "outputs": [],
   "source": [
    "def sendDataToDb(dataSet):\n",
    "    url=\"http://localhost:4000/api/posts\"\n",
    "    headers = {'Content-type': 'application/json', 'Accept': 'text/plain'}\n",
    "    r= requests.post(url, data=dataSet.encode('utf-8'), headers=headers)"
   ]
  },
  {
   "cell_type": "code",
   "execution_count": 265,
   "metadata": {},
   "outputs": [],
   "source": [
    "dataList = ['heavyrainism', 'kimdoe', 'flurry1989', 'zilioner']"
   ]
  },
  {
   "cell_type": "code",
   "execution_count": 266,
   "metadata": {
    "scrolled": true
   },
   "outputs": [
    {
     "name": "stdout",
     "output_type": "stream",
     "text": [
      "{'data': [], 'pagination': {}}\n",
      "{'data': [{'id': '37707759376', 'user_id': '102845970', 'user_name': '김도', 'game_id': '510649', 'type': 'live', 'title': '사이버펑크 택배 CLOUDPUNK', 'viewer_count': 4528, 'started_at': '2020-04-24T05:59:08Z', 'language': 'ko', 'thumbnail_url': 'https://static-cdn.jtvnw.net/previews-ttv/live_user_kimdoe-{width}x{height}.jpg', 'tag_ids': ['ab2975e3-b9ca-4b1a-a93e-fb61a5d5c3a4']}], 'pagination': {}}\n",
      "{'data': [{'id': '37705499232', 'user_id': '92371909', 'user_name': '플러리', 'game_id': '138585', 'type': 'live', 'title': 'ㅎㅎㅎㅎ하스스톤', 'viewer_count': 6342, 'started_at': '2020-04-24T02:56:57Z', 'language': 'ko', 'thumbnail_url': 'https://static-cdn.jtvnw.net/previews-ttv/live_user_flurry1989-{width}x{height}.jpg', 'tag_ids': ['ab2975e3-b9ca-4b1a-a93e-fb61a5d5c3a4', 'dbacccc8-57e7-4411-9664-9982f96d629c']}], 'pagination': {}}\n",
      "{'data': [], 'pagination': {}}\n"
     ]
    }
   ],
   "source": [
    "for i in dataList :\n",
    "    a=twitchCrawlLiveData(i)\n",
    "    sendDataToDb(a)"
   ]
  },
  {
   "cell_type": "code",
   "execution_count": null,
   "metadata": {},
   "outputs": [],
   "source": []
  }
 ],
 "metadata": {
  "kernelspec": {
   "display_name": "Python 3",
   "language": "python",
   "name": "python3"
  },
  "language_info": {
   "codemirror_mode": {
    "name": "ipython",
    "version": 3
   },
   "file_extension": ".py",
   "mimetype": "text/x-python",
   "name": "python",
   "nbconvert_exporter": "python",
   "pygments_lexer": "ipython3",
   "version": "3.7.2"
  }
 },
 "nbformat": 4,
 "nbformat_minor": 4
}
